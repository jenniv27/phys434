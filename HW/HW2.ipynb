{
 "cells": [
  {
   "cell_type": "markdown",
   "id": "bcb3d0bf-0bd9-44b8-a1be-099f5f38dd57",
   "metadata": {},
   "source": [
    "### Homework 2\n",
    "#### Jennifer Vo "
   ]
  },
  {
   "cell_type": "code",
   "execution_count": 1,
   "id": "fa363639-490f-4a7a-addf-ac6e14ce2069",
   "metadata": {},
   "outputs": [],
   "source": [
    "import numpy as np\n",
    "import matplotlib\n",
    "import matplotlib.pyplot as plt\n",
    "import scipy\n",
    "from scipy import stats"
   ]
  },
  {
   "cell_type": "markdown",
   "id": "85f9038f-7614-4889-8ae6-602e5c592727",
   "metadata": {},
   "source": [
    "##### Part 1"
   ]
  },
  {
   "cell_type": "markdown",
   "id": "99127922-8a9c-427d-a2d1-b57c5b805b2c",
   "metadata": {},
   "source": [
    "A little introductory brain teaser. Which is more probable when rolling 2 six-sided dice: rolling snake eyes (two ones) or rolling sevens (dice sum to seven)? What is the ratio of the probabilities?"
   ]
  },
  {
   "cell_type": "markdown",
   "id": "d87da768-b34e-401e-9121-c11d7bb38327",
   "metadata": {},
   "source": [
    "The probability of rolling snake eyes (two ones) is 1/6 * 1/6 = 1/36 = 0.02778.\n",
    "There are 36 possible dice combinations of 2 six-sided dice, and 6 ways to roll seven (6 + 1, 5 + 2, 4 + 3, 3 + 4, 2 + 5, 1 + 6). The probability of rolling sevens (dice sum to seven) is thus 6/36 = 1/6 = 0.1667\n",
    "\n",
    "The ratio of the probabilities is (1/36) / (1/6) = 1/6 or 0.1667."
   ]
  },
  {
   "cell_type": "markdown",
   "id": "350f9f26-b6e4-4007-8d8e-87efd2efa7dc",
   "metadata": {},
   "source": [
    "#### Part 2\n",
    "Following what we did in class show how to use the convolution operator to determine the probability of the sum of 2 six sided dice. Do both analytically (math & counting) and numerically (computer program). Beware the implicit definition of the values (x-axis on histogram)."
   ]
  },
  {
   "cell_type": "markdown",
   "id": "020027af-cb1a-4086-9b5e-c7b4a3473c30",
   "metadata": {},
   "source": [
    "The convolution operator is $P_{A+B}(x) = \\sum_{z}P_A(z)P_B(x-z)$"
   ]
  },
  {
   "cell_type": "markdown",
   "id": "53af9765-b9e3-4668-832b-cf4fb0d2b407",
   "metadata": {},
   "source": [
    "##### Analytically (math & counting):\n",
    "\n",
    "$P(2) = P(1)*P(1) = 1/36$"
   ]
  },
  {
   "cell_type": "markdown",
   "id": "b9ab2907-80b8-4a2f-9c41-bbcf4b802cd3",
   "metadata": {},
   "source": [
    "$P(3) = P(2)*P(1) + P(1)*P(2) = 2/36$"
   ]
  },
  {
   "cell_type": "markdown",
   "id": "12a3b9e6-2ea0-44ee-a670-72f702b6238a",
   "metadata": {},
   "source": [
    "$P(4) = P(3)*P(1) + P(2)*P(2) + P(1)*P(3) = 3/36$"
   ]
  },
  {
   "cell_type": "markdown",
   "id": "64cf74bf-8a32-463f-9fa8-844fc8c6c838",
   "metadata": {},
   "source": [
    "$P(5) = P(4)*P(1) + P(3)*P(2) + P(2)*P(3) + P(1)*P(4) = 4/36$"
   ]
  },
  {
   "cell_type": "markdown",
   "id": "3cabdfee-d1ef-4eb1-8f69-795f62f74f35",
   "metadata": {},
   "source": [
    "$P(6) = P(5)*P(1) + P(4)*P(2) + P(3)*P(3) + P(2)*P(4) + P(1)*P(5) = 5/36$"
   ]
  },
  {
   "cell_type": "markdown",
   "id": "238912c4-b6ed-4c96-89c4-4fb48f677056",
   "metadata": {},
   "source": [
    "$P(7) = P(6)*P(1) + P(5)*P(2) + P(4)*P(3) + P(3)*P(4) + P(2)*P(5) + P(1)*P(6) = 6/36 = 1/6$"
   ]
  },
  {
   "cell_type": "markdown",
   "id": "5d6aff42-1ada-4e2d-ad7d-684e04dc3ec4",
   "metadata": {},
   "source": [
    "$P(8) = P(6)*P(2) + P(5)*P(3) + P(4)*P(4) + P(3)*P(5) + P(2)*P(6) = 5/36$"
   ]
  },
  {
   "cell_type": "markdown",
   "id": "78b0523a-7d03-4a24-b51a-842541c1f3f7",
   "metadata": {},
   "source": [
    "$P(9) = P(6)*P(3) + P(5)*P(4) + P(4)*P(5) + P(3)*P(6) = 4/36$"
   ]
  },
  {
   "cell_type": "markdown",
   "id": "61c1bfc1-0d49-40e1-ab89-0573b01a77da",
   "metadata": {},
   "source": [
    "$P(10) = P(6)*P(4) + P(5)*P(5) + P(4)*P(6) = 3/36$"
   ]
  },
  {
   "cell_type": "markdown",
   "id": "c2d5cf1e-0b6b-4a64-ac94-1ce28bd164c4",
   "metadata": {},
   "source": [
    "$P(11) = P(6)*P(5) + P(5)*P(6) = 2/36$"
   ]
  },
  {
   "cell_type": "markdown",
   "id": "953c5e81-9c48-45f8-8812-554fa4600039",
   "metadata": {},
   "source": [
    "$P(12) = P(6)*P(6) = 1/36$"
   ]
  },
  {
   "cell_type": "markdown",
   "id": "f3fc9457-7951-428c-92f3-1347de2e2ca5",
   "metadata": {},
   "source": [
    "##### Numerically: "
   ]
  },
  {
   "cell_type": "code",
   "execution_count": 2,
   "id": "83f944b7-ea0a-4d1f-a8f1-03920804353a",
   "metadata": {},
   "outputs": [
    {
     "name": "stdout",
     "output_type": "stream",
     "text": [
      "[0.02777778 0.05555556 0.08333333 0.11111111 0.13888889 0.16666667\n",
      " 0.13888889 0.11111111 0.08333333 0.05555556 0.02777778]\n"
     ]
    }
   ],
   "source": [
    "dice_1 = [1/6, 1/6, 1/6, 1/6, 1/6, 1/6]\n",
    "dice_2 = [1/6, 1/6, 1/6, 1/6, 1/6, 1/6]\n",
    "conv_dice = np.convolve(dice_1, dice_2)\n",
    "print(conv_dice)"
   ]
  },
  {
   "cell_type": "code",
   "execution_count": 3,
   "id": "9c9355a8-ed38-4f45-b71c-26665d918caf",
   "metadata": {},
   "outputs": [
    {
     "data": {
      "image/png": "[encoded data removed]",
      "text/plain": [
       "<Figure size 432x288 with 1 Axes>"
      ]
     },
     "metadata": {
      "needs_background": "light"
     },
     "output_type": "display_data"
    }
   ],
   "source": [
    "values = [2, 3, 4, 5, 6, 7, 8, 9, 10, 11, 12]\n",
    "plt.bar(values, conv_dice)\n",
    "plt.show()"
   ]
  },
  {
   "cell_type": "markdown",
   "id": "c563556f-3c3b-4eda-bc9c-9f0ee77e16a2",
   "metadata": {},
   "source": [
    "#### Part 3"
   ]
  },
  {
   "cell_type": "markdown",
   "id": "f509fdf8-2dc3-4ab5-87b8-5c9cdf24755d",
   "metadata": {},
   "source": [
    "Calculate the mean and the variance of the distribution in problem 2. Hint: this is surprisingly tricky, make sure your result makes sense."
   ]
  },
  {
   "cell_type": "code",
   "execution_count": 4,
   "id": "d21ab9c5-6704-4435-9089-73b7d82aee29",
   "metadata": {},
   "outputs": [
    {
     "name": "stdout",
     "output_type": "stream",
     "text": [
      "The average value for the sum of 2 six-sided dice is 7.00\n"
     ]
    }
   ],
   "source": [
    "avg_x = 0\n",
    "for i in range (0, 11):\n",
    "    avg_x += conv_dice[i]*values[i]\n",
    "print(f'The average value for the sum of 2 six-sided dice is {avg_x:.2f}')"
   ]
  },
  {
   "cell_type": "code",
   "execution_count": 5,
   "id": "8fef5eea-cc89-4b53-ac8f-4c863376d34c",
   "metadata": {},
   "outputs": [
    {
     "name": "stdout",
     "output_type": "stream",
     "text": [
      "The variance of the sum of 2 six-sided dice is 5.83\n"
     ]
    }
   ],
   "source": [
    "values_squared = []\n",
    "for i in range (0, 11):\n",
    "    values_squared.append(values[i]*values[i])\n",
    "\n",
    "avg_xsq = 0\n",
    "for i in range (0, 11):\n",
    "    avg_xsq += conv_dice[i]*values_squared[i]\n",
    "\n",
    "var = avg_xsq - (avg_x*avg_x)\n",
    "    \n",
    "print(f'The variance of the sum of 2 six-sided dice is {var:.2f}')"
   ]
  },
  {
   "cell_type": "markdown",
   "id": "301a6b9a-da61-49c7-b9f0-47c0a4c18e6d",
   "metadata": {},
   "source": [
    "#### Part 4"
   ]
  },
  {
   "cell_type": "markdown",
   "id": "0c9221db-b74b-4168-ba58-0fc2822f6ee4",
   "metadata": {},
   "source": [
    "Repeat 2, and graph the average of 10 dice. Is this is a Gaussian distribution? Explain in depth."
   ]
  },
  {
   "cell_type": "code",
   "execution_count": 6,
   "id": "aa58582e-22a0-4518-aeec-8fa7662b526d",
   "metadata": {},
   "outputs": [
    {
     "name": "stdout",
     "output_type": "stream",
     "text": [
      "[1.65381717e-08 1.65381717e-07 9.09599443e-07 3.63839777e-06\n",
      " 1.18247928e-05 3.31094197e-05 8.26081676e-05 1.87542867e-04\n",
      " 3.92946959e-04 7.67701930e-04 1.40951530e-03 2.44665712e-03\n",
      " 4.03407353e-03 6.34189270e-03 9.53533096e-03 1.37465945e-02\n",
      " 1.90415547e-02 2.53867551e-02 3.26236936e-02 4.04573294e-02\n",
      " 4.84643679e-02 5.61241048e-02 6.28704385e-02 6.81581055e-02\n",
      " 7.15327194e-02 7.26928060e-02 7.15327194e-02 6.81581055e-02\n",
      " 6.28704385e-02 5.61241048e-02 4.84643679e-02 4.04573294e-02\n",
      " 3.26236936e-02 2.53867551e-02 1.90415547e-02 1.37465945e-02\n",
      " 9.53533096e-03 6.34189270e-03 4.03407353e-03 2.44665712e-03\n",
      " 1.40951530e-03 7.67701930e-04 3.92946959e-04 1.87542867e-04\n",
      " 8.26081676e-05 3.31094197e-05 1.18247928e-05 3.63839777e-06\n",
      " 9.09599443e-07 1.65381717e-07 1.65381717e-08]\n"
     ]
    }
   ],
   "source": [
    "standard_dice = [1/6, 1/6, 1/6, 1/6, 1/6, 1/6]\n",
    "conv_dice = [1/6, 1/6, 1/6, 1/6, 1/6, 1/6]\n",
    "for i in range (0, 9):\n",
    "    conv_dice = np.convolve(conv_dice, standard_dice)\n",
    "\n",
    "print(conv_dice)"
   ]
  },
  {
   "cell_type": "code",
   "execution_count": 7,
   "id": "05945ba6-b795-43e3-89d4-42deff88300e",
   "metadata": {},
   "outputs": [
    {
     "name": "stdout",
     "output_type": "stream",
     "text": [
      "[10, 11, 12, 13, 14, 15, 16, 17, 18, 19, 20, 21, 22, 23, 24, 25, 26, 27, 28, 29, 30, 31, 32, 33, 34, 35, 36, 37, 38, 39, 40, 41, 42, 43, 44, 45, 46, 47, 48, 49, 50, 51, 52, 53, 54, 55, 56, 57, 58, 59, 60]\n"
     ]
    },
    {
     "data": {
      "image/png": "[encoded data removed]",
      "text/plain": [
       "<Figure size 432x288 with 1 Axes>"
      ]
     },
     "metadata": {
      "needs_background": "light"
     },
     "output_type": "display_data"
    }
   ],
   "source": [
    "values_10dice = []\n",
    "for i in range (10, 61):\n",
    "    values_10dice.append(i)\n",
    "print(values_10dice)\n",
    "\n",
    "plt.bar(values_10dice, conv_dice)\n",
    "plt.show()"
   ]
  },
  {
   "cell_type": "code",
   "execution_count": 8,
   "id": "908e8f1f-4e24-4b14-ae9a-a646788ed2df",
   "metadata": {},
   "outputs": [
    {
     "data": {
      "image/png": "[encoded data removed]",
      "text/plain": [
       "<Figure size 432x288 with 1 Axes>"
      ]
     },
     "metadata": {
      "needs_background": "light"
     },
     "output_type": "display_data"
    }
   ],
   "source": [
    "x = []\n",
    "for i in range (0, 100000):\n",
    "    sum = 0\n",
    "    for j in range (0, 10):\n",
    "        sum += np.random.randint(0, 7)\n",
    "    x.append(sum/10)\n",
    "\n",
    "plt.hist(x, 150)\n",
    "plt.show()"
   ]
  },
  {
   "cell_type": "code",
   "execution_count": 9,
   "id": "d63baab7-2735-4243-a7f2-8bda15afc29e",
   "metadata": {},
   "outputs": [
    {
     "data": {
      "image/png": "[encoded data removed]",
      "text/plain": [
       "<Figure size 432x288 with 1 Axes>"
      ]
     },
     "metadata": {
      "needs_background": "light"
     },
     "output_type": "display_data"
    }
   ],
   "source": [
    "# Plot on semi-log graph\n",
    "x = []\n",
    "for i in range (0, 100000):\n",
    "    sum = 0\n",
    "    for j in range (0, 10):\n",
    "        sum += np.random.randint(0, 7)\n",
    "    x.append(sum/10)\n",
    "\n",
    "plt.hist(x, 150)\n",
    "plt.yscale('log')\n",
    "plt.show()"
   ]
  },
  {
   "cell_type": "markdown",
   "id": "3df1cb10-2e1b-487a-b3aa-c397b5624efe",
   "metadata": {},
   "source": [
    "This plot of the average of 10 dice rolls does look very close to a Gaussian, and by plotting it on a semi-log graph it confirms that the shape is approximately an upside-down parabola (except for the edges), characteristic of a Gaussian distribution."
   ]
  },
  {
   "cell_type": "markdown",
   "id": "51c789b9-74d9-49f3-b52b-a54f73bcec7c",
   "metadata": {},
   "source": [
    "#### Part 5"
   ]
  },
  {
   "cell_type": "markdown",
   "id": "d56273bc-3623-409d-b27a-070c4634534f",
   "metadata": {},
   "source": [
    "Show that the sum and average of an initially Gaussian distribution is also a Guassian (can be analytic or numerical). How does the standard deviation of the resulting sum or average Guassian change? This is a hugely important result. Explore what this means for integrating a signal over time."
   ]
  },
  {
   "cell_type": "code",
   "execution_count": 37,
   "id": "5856e88e-9fcd-4198-a9e8-2ceaa8c8e906",
   "metadata": {},
   "outputs": [
    {
     "name": "stdout",
     "output_type": "stream",
     "text": [
      "The standard deviation is 0.1073.\n"
     ]
    },
    {
     "data": {
      "image/png": "[encoded data removed]",
      "text/plain": [
       "<Figure size 432x288 with 1 Axes>"
      ]
     },
     "metadata": {
      "needs_background": "light"
     },
     "output_type": "display_data"
    }
   ],
   "source": [
    "x = np.linspace(-10,10,100)\n",
    "y = stats.norm.pdf(x)\n",
    "std_y = np.std(y)\n",
    "\n",
    "print(f'The standard deviation is {std_y:.4f}.')\n",
    "\n",
    "plt.plot(x,y)\n",
    "plt.show()"
   ]
  },
  {
   "cell_type": "code",
   "execution_count": 38,
   "id": "122eca21-0618-404b-8bf3-3294ba3059b2",
   "metadata": {},
   "outputs": [
    {
     "name": "stdout",
     "output_type": "stream",
     "text": [
      "199\n"
     ]
    }
   ],
   "source": [
    "#Sum of 3 gaussians = convolution\n",
    "conv_gauss = y\n",
    "n = 1\n",
    "for i in range (0, n):\n",
    "    conv_gauss = np.convolve(conv_gauss, y)\n",
    "\n",
    "#conv_gauss is probability distribution\n",
    "size = len(conv_gauss)\n",
    "print(size)"
   ]
  },
  {
   "cell_type": "code",
   "execution_count": 39,
   "id": "ba844b0e-480f-474d-b8c2-5456ea9b342e",
   "metadata": {},
   "outputs": [
    {
     "data": {
      "image/png": "[encoded data removed]",
      "text/plain": [
       "<Figure size 432x288 with 1 Axes>"
      ]
     },
     "metadata": {
      "needs_background": "light"
     },
     "output_type": "display_data"
    }
   ],
   "source": [
    "x_values = np.linspace(-20, 20, size)\n",
    "\n",
    "plt.plot(x_values, conv_gauss)\n",
    "plt.show()"
   ]
  },
  {
   "cell_type": "code",
   "execution_count": 40,
   "id": "6c590083-4f0d-4e7e-9db3-1921da2f1f91",
   "metadata": {},
   "outputs": [
    {
     "name": "stdout",
     "output_type": "stream",
     "text": [
      "The standard deviation of the n = 1 convolutions is 0.3262.\n",
      "The ratio of the standard deviations is 3.0402, and the square root of n=1 is 1.0.\n"
     ]
    }
   ],
   "source": [
    "# Standard deviation of this new Gaussian\n",
    "std_conv = np.std(conv_gauss)\n",
    "print(f'The standard deviation of the n = {n} convolutions is {std_conv:.4f}.')\n",
    "ratio_std = std_conv/std_y\n",
    "sqrt_n = n**0.5\n",
    "print(f'The ratio of the standard deviations is {ratio_std:.4f}, and the square root of n={n} is {sqrt_n}.')"
   ]
  },
  {
   "cell_type": "markdown",
   "id": "ee53f18b-c9c2-4b7c-87f4-d9caa4a7f09e",
   "metadata": {},
   "source": [
    "The standard deviation has increased from 1 to 1.57. "
   ]
  },
  {
   "cell_type": "code",
   "execution_count": null,
   "id": "cac0b642-b506-4f61-87bb-f6abc7f0f08c",
   "metadata": {},
   "outputs": [],
   "source": [
    "\n"
   ]
  },
  {
   "cell_type": "code",
   "execution_count": null,
   "id": "cb1db3a1-a056-4dfa-b262-a4415eae1754",
   "metadata": {},
   "outputs": [],
   "source": []
  }
 ],
 "metadata": {
  "kernelspec": {
   "display_name": "Python 3",
   "language": "python",
   "name": "python3"
  },
  "language_info": {
   "codemirror_mode": {
    "name": "ipython",
    "version": 3
   },
   "file_extension": ".py",
   "mimetype": "text/x-python",
   "name": "python",
   "nbconvert_exporter": "python",
   "pygments_lexer": "ipython3",
   "version": "3.8.8"
  }
 },
 "nbformat": 4,
 "nbformat_minor": 5
}
