{
 "cells": [
  {
   "cell_type": "markdown",
   "id": "35a736da-3f7e-4b81-9307-4ff9fe2fad21",
   "metadata": {},
   "source": [
    "### Homework 3"
   ]
  },
  {
   "cell_type": "markdown",
   "id": "1183243b-d174-402f-87ea-7b18abe245e5",
   "metadata": {},
   "source": [
    "#### Jennifer Vo"
   ]
  },
  {
   "cell_type": "markdown",
   "id": "d1414ec4-65b1-47e5-bf2b-959c112c2953",
   "metadata": {},
   "source": [
    "#### Problem 1"
   ]
  },
  {
   "cell_type": "markdown",
   "id": "d64270bc-1a79-45ad-ae8a-6c5de7025303",
   "metadata": {},
   "source": [
    "We're going to briefly look at truth tables. As an example let's assume we have a 100 photos, some of birds and some of people. In a truth table you assume you can categorize the true answer—let's say you pay an undergraduate to sort the photos into birds and people. Then you want to have an automated sorting algorithm. However that works, whether it is by looking a the color at the center of photo or using a neural network (NN), it will also sort the photos but imperfectly. Given two sorts you can then arrange a truth table:\n",
    "\n",
    "|  | True Bird| True Person|\n",
    "|----|----|----------|\n",
    "| NN Bird | 45  | 5  |\n",
    "| NN Person| 3  | 47 |\n",
    "\n",
    "There are 48 birds and 52 People (columns), and there are 8 miscategorizations. The NN called three of the birds people, and 5 of the people birds.\n",
    "\n",
    "This is useful because it not only shows the number of errors, but the type, and not all errors are created equal. Let's say our identification system is being used to keep birds from escaping the aviary at the zoo by locking the aviary door when a bird is trying to escape. We really don't want to let birds escape, but locking a person in for 30 extra seconds is not a big deal. In this case false bird identification is not so bad, but false person identification lets a bird escape.\n",
    "\n",
    "Let's say the above truth table is the current system, and you've developed a new algorithm (NA) with the following truth table*: \n",
    "\n",
    "|  | True Bird| True Person|\n",
    "|----|----|----------|\n",
    "| NA Bird | 47  | 10  |\n",
    "| NA Person| 1  | 42 |\n",
    "\n",
    "*the given truth table in the homework 3 file is 11 True persons classified as NA Birds, and 42 True Persons classified as NA Persons, however this would mean the table does not add up to 100. Let's work with 10 True Person/NA Bird and 42 True Person/NA Person instead."
   ]
  },
  {
   "cell_type": "markdown",
   "id": "e9128a2f-e959-458d-b520-eeb373682fe9",
   "metadata": {},
   "source": [
    "##### Part A."
   ]
  },
  {
   "cell_type": "markdown",
   "id": "1f00cac2-6a4f-4df9-b1af-f00184f7cf80",
   "metadata": {},
   "source": [
    "**Which algorithm makes the fewest mistakes?**"
   ]
  },
  {
   "cell_type": "markdown",
   "id": "536e1582-3ba3-48fa-9305-ddbce7067463",
   "metadata": {},
   "source": [
    "The first algorithm makes fewer mistakes (8 miscategorizations) compared to the second algorithm (12 miscategorizations)."
   ]
  },
  {
   "cell_type": "markdown",
   "id": "f8f173b9-1ffc-4aaa-8e60-40518add6b76",
   "metadata": {},
   "source": [
    "##### Part B."
   ]
  },
  {
   "cell_type": "markdown",
   "id": "2f7e6193-ff91-4ca0-96ab-8b91d0bd4f7c",
   "metadata": {},
   "source": [
    "**Which algorithm is better for the zoo? Explain.**"
   ]
  },
  {
   "cell_type": "markdown",
   "id": "e0b3a304-418a-4e95-aea0-3e1fde72b981",
   "metadata": {},
   "source": [
    "The second algorithm is better for the zoo. The zoo wants to prioritize the algorithm to identify birds correctly, as it is more important to not let birds escape. It is less important to the zoo if they identify people incorrectly, because it isn't a big deal for them to lock a person in with the birds for 30 extra seconds. Therefore, there is a much greater penalty involved with identifying a true bird as a person. If we look at the number of times each algorithm identifies true birds as people, the new algorithm (NA) has only 1 occurrence, while the neural network (NN) has 3. Thus, the second algorithm is better for the zoo."
   ]
  },
  {
   "cell_type": "markdown",
   "id": "1af24b99-1c40-4197-84b2-c2beef5773ba",
   "metadata": {},
   "source": [
    "##### Part C."
   ]
  },
  {
   "cell_type": "markdown",
   "id": "451207b8-f24f-40b0-902f-a6e5bbaf70b8",
   "metadata": {},
   "source": [
    "**During the pandemic the number of visitors plummets, and it is only the zoo keeper visiting. So instead of 52% of the photos taken at the aviary door being people, it is now only 1%. Make new truth tables for both algorithms.**\n",
    "\n",
    "We are told that the 1% of the photos taken at the aviary door are people. This means 99% are true birds. Here, let's assume that instead of 100 photos, we have 1000 photos in order to show how the probabilities influence the truth tables and try to avoid non-integer values as much as we can. Thus, 990 of the photos are of true birds and 10 are of true people."
   ]
  },
  {
   "cell_type": "markdown",
   "id": "1ea9f59c-5521-4f11-af77-63dceaa81017",
   "metadata": {},
   "source": [
    "Existing Neural Algorithm:\n",
    "\n",
    "The birds:\n",
    "\n",
    "- 45/48 = 93.75% of True birds were classified as birds in the NN. So (45*990/48) = 928.125, we'll round down to 928.\n",
    "\n",
    "- 3/48 = 6.25% of True birds were classified as person in the NN. So (3*990/48) = 61.8, we'll round up to 62.\n",
    "\n",
    "The people:\n",
    "\n",
    "- 5/52 = 9.62% of True people were classified as birds in the NN. So (5*10/52) = 0.96, we'll round up to 1.\n",
    "\n",
    "- 47/52 = 90.38% of True people were classified as person in the NN. So (47*10/52) = 9.038, we'll round down to 9.\n",
    "\n",
    "Thus our new truth table for the existing neural algorithm (NN) is given by: \n",
    "\n",
    "|  | True Bird| True Person|\n",
    "|----|----|----------|\n",
    "| NN Bird | 928  | 1  |\n",
    "| NN Person| 62  | 9 |"
   ]
  },
  {
   "cell_type": "markdown",
   "id": "292a5569-b091-45b1-9d03-b91b77f29582",
   "metadata": {},
   "source": [
    "New Neural Algorithm:\n",
    "\n",
    "The birds: \n",
    "- 47/48 = 97.92% True birds classified as birds in NA. (47*990/48) = 969.375, round down to 969.\n",
    "- 1/48 = 2.08% True birds classified as person in NA. (1*990/48) = 20.625, round up to 21.\n",
    "\n",
    "The people:\n",
    "- 10/52 = 19.23% True people were classified as birds in the NA. So (10*10/52) = 1.923, round up to 2.\n",
    "- 42/52 = 80.77% True people were classified as people in the NA. So (42*10/52) = 8.077, round down to 8.\n",
    "\n",
    "Thus our new truth table for the new algorithm (NA) is given by:\n",
    "\n",
    "|  | True Bird| True Person|\n",
    "|----|----|----------|\n",
    "| NA Bird | 969 | 2  |\n",
    "| NA Person| 21  | 8 |"
   ]
  },
  {
   "cell_type": "markdown",
   "id": "f7b30a8d-25ad-4e64-b1c8-b258d6dbce33",
   "metadata": {},
   "source": [
    "#### Problem 2"
   ]
  },
  {
   "cell_type": "markdown",
   "id": "2bed3261-75eb-4bdf-9fa6-989e55ff7eb4",
   "metadata": {},
   "source": [
    "In the last lab we explored how to numerically calculate the pdf of a summed or averaged observation through repeated convolutions. But sometimes the convolution has an analytical solution. We could have found this out by either using a sharp pencil and doing the convolution integral by hand, or by looking it up in a table (much easier).\n",
    "\n",
    "Having an analytic answer is much nicer when they exist, so it is always good to look and see if it exists. Further, sums and averages are only some of the mathematical operations that we can perform. In this section we will do an internet scavenger hunt to find the analytic pdf for some interesting distributions.\n",
    "\n",
    "Example 1: What is the sum of two Guassian distributions?\n",
    "\n",
    "We did this numerically in the last lab, but we can find it analytically. One might start with this page on the normal distribution which would refer you to this page on the sum, which would give you the same answer you figured out last week.\n",
    "\n",
    "Example 2: Let's say we have a variable with a Rayleigh distribution, and we're going to square it. What is the distribution?\n",
    "\n",
    "First I'll lookup and read about the Rayleigh distribution, such as this Wikipedia page (Mathworld and other sources, such as CRC books are great too). Down near the bottom are listed a number of related distributions. Note that the square of the Rayleigh is listed as a gamma distribution with N = 1. Looking up the gamma distribution we see that a gamma with N=1 is an exponential distribution, and just to check we can see that the sqrt of an exponential distribution is a Rayleigh distribution to bring us full circle."
   ]
  },
  {
   "cell_type": "markdown",
   "id": "80c66aef-be4f-4266-b6cb-349deb1b111f",
   "metadata": {},
   "source": [
    "##### Part A."
   ]
  },
  {
   "cell_type": "markdown",
   "id": "10ae6ec4-c243-4076-a190-e1619926748f",
   "metadata": {},
   "source": [
    "**What is the pdf of the sum of two identical exponential distributions?**"
   ]
  },
  {
   "cell_type": "markdown",
   "id": "98f5dc9f-d81a-4348-96ff-84a5df5f2fd0",
   "metadata": {},
   "source": [
    "The pdf of two identical exponential distributed variables $x_1 \\text{and} x_2$ (say, each with parameter $\\lambda$) is given by the following: where $z = x_1 + x_2$\n",
    "\n",
    "$$\\text{pdf} = \\lambda^2 z e^{-\\lambda z}$$\n",
    "\n",
    "This pdf is also called the Erlang distribution with shape parameter k=2 and the rate parameter $\\lambda$ equal to the exponential distribution parameter $\\lambda$. The Erlang is the Gamma distribution where the shape parameter k is discretized. As mentioned in Example 2 in the Homework specifications, the gamma distribution with N = 1 is an exponential distribution and brings us full circle. "
   ]
  },
  {
   "cell_type": "markdown",
   "id": "7fadd719-bbc2-4331-b3aa-6a064e5b6588",
   "metadata": {},
   "source": [
    "##### Part B.\n",
    "**What is the pdf of the ratio of two zero-mean unity variance normal distributions $X_1/X_2$ ?**"
   ]
  },
  {
   "cell_type": "markdown",
   "id": "19679fe2-622a-44db-9398-f78a001c7429",
   "metadata": {},
   "source": [
    "The pdf of the ratio of two zero-mean unity variance normal distributions $X_1/X_2$ is given by:\n",
    "$$\\text{pdf} = \\frac{e^{-(x_1^2+x_2^2)/2}}{2\\pi} $$\n",
    "\n",
    "where $X_1 \\text{ and } X_2$ are the zero-mean unity variance normally distributed independent variables.\n",
    "\n",
    "This pdf is called the standard Cauchy distribution, also known as the Lorentz distribution, where the parameters $x_0 = 0 \\text{ and } \\gamma = 1 $."
   ]
  },
  {
   "cell_type": "markdown",
   "id": "97bc298c-44d0-415b-ae18-55703d6219d1",
   "metadata": {},
   "source": [
    "##### Part C."
   ]
  },
  {
   "cell_type": "markdown",
   "id": "7630ff70-adfc-4774-9fd7-4aaa92ab67ac",
   "metadata": {},
   "source": [
    "**So far we have looked at 1D probability distributions, but it is possible to have a multi-dimensional vector distribution. A simple first introduction is the 2D Guassian; it looks like a smeared spot. Mathematically this is given by  $X\\hat{i}+Y\\hat{j}$  where both  X  and  Y  are drawn from 1D Gaussian distributions. If I measure the amplitude of this vector, what is its pdf? (Hint, the amplitude is always positive.)**"
   ]
  },
  {
   "cell_type": "markdown",
   "id": "4886125f-d050-407e-800f-38573c8df35c",
   "metadata": {},
   "source": [
    "If we define $Z = \\sqrt{X^2+Y^2}$, then the pdf is defined for z $\\geq$ 0 as:\n",
    "\n",
    "$$\\text{pdf(z,}\\sigma) = \\frac{z}{\\sigma^2}e^{-z^2/(2\\sigma^2)}$$\n",
    "\n",
    "This pdf is called the Rayleigh distribution, where $\\sigma$ is equal to the standard deviation of the 1D Gaussian distributions."
   ]
  }
 ],
 "metadata": {
  "kernelspec": {
   "display_name": "Python 3",
   "language": "python",
   "name": "python3"
  },
  "language_info": {
   "codemirror_mode": {
    "name": "ipython",
    "version": 3
   },
   "file_extension": ".py",
   "mimetype": "text/x-python",
   "name": "python",
   "nbconvert_exporter": "python",
   "pygments_lexer": "ipython3",
   "version": "3.8.8"
  }
 },
 "nbformat": 4,
 "nbformat_minor": 5
}
