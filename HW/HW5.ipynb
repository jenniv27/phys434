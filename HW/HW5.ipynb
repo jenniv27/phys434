{
 "cells": [
  {
   "cell_type": "markdown",
   "id": "a7a2350a-51fb-44d7-ae8a-7cab1b630c7b",
   "metadata": {},
   "source": [
    "# Homework 5\n",
    "## Jennifer Vo"
   ]
  },
  {
   "cell_type": "markdown",
   "id": "613378ce-1f2e-43d7-81dc-91c0a2bedd7a",
   "metadata": {},
   "source": [
    "## Problem 1"
   ]
  },
  {
   "cell_type": "markdown",
   "id": "edf66a11-4502-4675-8b67-448122377dcf",
   "metadata": {},
   "source": [
    "### Part A"
   ]
  },
  {
   "cell_type": "markdown",
   "id": "4a4cbb0d-983b-4b0d-b976-21993df61281",
   "metadata": {},
   "source": [
    "### Part B"
   ]
  },
  {
   "cell_type": "markdown",
   "id": "f593cb4a-ef7a-4fdd-ba82-048299e80476",
   "metadata": {},
   "source": [
    "### Part C"
   ]
  },
  {
   "cell_type": "markdown",
   "id": "6403c05e-1411-451f-b65c-d9e7b7675ff2",
   "metadata": {},
   "source": [
    "## Problem 2"
   ]
  },
  {
   "cell_type": "code",
   "execution_count": null,
   "id": "096b5dc0-780b-41d0-ae32-3579d33e5c91",
   "metadata": {},
   "outputs": [],
   "source": []
  }
 ],
 "metadata": {
  "kernelspec": {
   "display_name": "Python 3",
   "language": "python",
   "name": "python3"
  },
  "language_info": {
   "codemirror_mode": {
    "name": "ipython",
    "version": 3
   },
   "file_extension": ".py",
   "mimetype": "text/x-python",
   "name": "python",
   "nbconvert_exporter": "python",
   "pygments_lexer": "ipython3",
   "version": "3.8.8"
  }
 },
 "nbformat": 4,
 "nbformat_minor": 5
}
