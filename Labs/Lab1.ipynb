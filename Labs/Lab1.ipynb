{
 "cells": [
  {
   "cell_type": "markdown",
   "id": "61703edf-89cd-4140-b614-8afb6ed2f35c",
   "metadata": {},
   "source": [
    "### Lab 1\n",
    "#### Jennifer Vo"
   ]
  },
  {
   "cell_type": "markdown",
   "id": "3e9a0573-4ee2-47cb-9979-08f224f82d5c",
   "metadata": {},
   "source": [
    "This lab will explore various reporting basics in physics research, such as how sigma relates to probability, and analytical distributions."
   ]
  },
  {
   "cell_type": "code",
   "execution_count": 2,
   "id": "8e37e261-2c85-4cd6-beb2-e6084381ebda",
   "metadata": {},
   "outputs": [],
   "source": [
    "# First I'll import the libraries I will need in this lab.\n",
    "import numpy as np\n",
    "import matplotlib\n",
    "import matplotlib.pyplot as plt\n",
    "import scipy\n",
    "from scipy import stats"
   ]
  },
  {
   "cell_type": "markdown",
   "id": "6cafd465-6e77-4b5b-8965-610c1f7a21fa",
   "metadata": {},
   "source": [
    "#### A Little Statistics\n",
    "##### Part 1"
   ]
  },
  {
   "cell_type": "markdown",
   "id": "bde82dc0-768a-429b-ac5f-fd86836733a4",
   "metadata": {},
   "source": [
    "To start off, let us try to integrate a standard normal distribution. For different values of sigma, I will use the built-in stats function stats.norm.cdf() to determine the probability corresponding to that sigma value. When conducting an experiment, the probability that the background noise gives me a data point that looks as or more signal-like than the reading I have, would be equal to the probability if my data was Gaussian distributed (of width 1) and I was $X\\sigma$ away from the mean.\n",
    "\n",
    "Let's try sigma values of 1.0, 1.2, and 1.4."
   ]
  },
  {
   "cell_type": "code",
   "execution_count": 3,
   "id": "fb137605-bb55-44c3-b770-926c31e77382",
   "metadata": {},
   "outputs": [
    {
     "name": "stdout",
     "output_type": "stream",
     "text": [
      "The probability is 0.8413 for 1.00 sigma.\n"
     ]
    }
   ],
   "source": [
    "sigma1 = 1.0\n",
    "prob1 = stats.norm.cdf(sigma1)\n",
    "print(f'The probability is {prob1:.4f} for {sigma1:.2f} sigma.')"
   ]
  },
  {
   "cell_type": "code",
   "execution_count": 4,
   "id": "b0c5e6c4-5c85-4f38-804f-fe1bbf6be4ca",
   "metadata": {},
   "outputs": [
    {
     "name": "stdout",
     "output_type": "stream",
     "text": [
      "The probability is 0.8849 for 1.20 sigma.\n"
     ]
    }
   ],
   "source": [
    "sigma2 = 1.2\n",
    "prob2 = stats.norm.cdf(sigma2)\n",
    "print(f'The probability is {prob2:.4f} for {sigma2:.2f} sigma.')"
   ]
  },
  {
   "cell_type": "code",
   "execution_count": 5,
   "id": "66dbcbe5-105a-426c-b797-d210773ace8c",
   "metadata": {},
   "outputs": [
    {
     "name": "stdout",
     "output_type": "stream",
     "text": [
      "The probability is 0.9192 for 1.40 sigma.\n"
     ]
    }
   ],
   "source": [
    "sigma3 = 1.4\n",
    "prob3 = stats.norm.cdf(sigma3)\n",
    "print(f'The probability is {prob3:.4f} for {sigma3:.2f} sigma.')"
   ]
  },
  {
   "cell_type": "markdown",
   "id": "7073d943-d3c5-4a7d-a61e-806af2ebb3b7",
   "metadata": {},
   "source": [
    "Cross-checking this with a Z-table, you can see that the probabilities generated are correct for the corresponding sigmas (Z values).\n",
    "\n",
    "Alternatively, to calculate the probability for a given sigma value, you can call the error function, erfc(), which is related to the normal distribution by the following formula:\n",
    "The probability that a standard normal variate assumes a value in the interval [0, z] is given by $\\phi = $ 0.5 * erfc(z/$\\sqrt(2)$), thus the probability that the value is greater than z would be 1-$\\phi$"
   ]
  },
  {
   "cell_type": "code",
   "execution_count": 7,
   "id": "c6768b9d-862b-4ac1-ab33-7c5ad94a7f4a",
   "metadata": {},
   "outputs": [
    {
     "name": "stdout",
     "output_type": "stream",
     "text": [
      "The probability of 1.00 sigma is 0.8413.\n"
     ]
    }
   ],
   "source": [
    "prob1prime = 1 - 0.5*scipy.special.erfc(sigma1/(2**0.5))\n",
    "print(f'The probability of {sigma1:.2f} sigma is {prob1prime:.4f}.')"
   ]
  },
  {
   "cell_type": "markdown",
   "id": "07f13877-57b1-4d53-8078-c6da1a1a56a9",
   "metadata": {},
   "source": [
    "We can also confirm that our previously calculated probabilities are correct:"
   ]
  },
  {
   "cell_type": "code",
   "execution_count": 8,
   "id": "aa2a8436-04fd-4b38-9207-657de4944154",
   "metadata": {},
   "outputs": [
    {
     "name": "stdout",
     "output_type": "stream",
     "text": [
      "The sigma associated with 0.8413 is 1.00.\n",
      "The sigma associated with 0.8849 is 1.20.\n",
      "The sigma associated with 0.9192 is 1.40.\n"
     ]
    }
   ],
   "source": [
    "sigmaA = stats.norm.ppf(prob1)\n",
    "sigmaB = stats.norm.ppf(prob2)\n",
    "sigmaC = stats.norm.ppf(prob3)\n",
    "\n",
    "print(f'The sigma associated with {prob1:.4f} is {sigmaA:.2f}.')\n",
    "print(f'The sigma associated with {prob2:.4f} is {sigmaB:.2f}.')\n",
    "print(f'The sigma associated with {prob3:.4f} is {sigmaC:.2f}.')"
   ]
  },
  {
   "cell_type": "code",
   "execution_count": 9,
   "id": "440db81e-473f-4868-b95e-6520299ca674",
   "metadata": {},
   "outputs": [
    {
     "name": "stdout",
     "output_type": "stream",
     "text": [
      "To obtain a probability of 97.725% we would need a sigma of 2.00.\n"
     ]
    }
   ],
   "source": [
    "# Here is an example of pulling a probability from a Z-table and finding the corresponding sigma. This could also be the probability you find \n",
    "# from integrating a probability density function up to a specific value.\n",
    "sigmaD = stats.norm.ppf(0.97725)\n",
    "print(f'To obtain a probability of 97.725% we would need a sigma of {sigmaD:.2f}.')"
   ]
  },
  {
   "cell_type": "code",
   "execution_count": 10,
   "id": "78da7216-a9a0-4103-9ae5-7972e25f6b14",
   "metadata": {},
   "outputs": [
    {
     "name": "stdout",
     "output_type": "stream",
     "text": [
      "For a probability of less than 50%, we would expect a negative sigma.\n",
      "For example, a probability of 49% is associated with sigma -0.03.\n"
     ]
    }
   ],
   "source": [
    "# TO-DO: REVISE THIS LAST PART.\n",
    "# In what case would we obtain a negative sigma? If we are integrating to a value below the mean (to the left). \n",
    "sigmaE = stats.norm.ppf(0.49)\n",
    "print('For a probability of less than 50%, we would expect a negative sigma.')\n",
    "print(f'For example, a probability of 49% is associated with sigma {sigmaE:.2f}.')"
   ]
  },
  {
   "cell_type": "markdown",
   "id": "32991d3d-ee67-4871-9a95-2afbfba23403",
   "metadata": {},
   "source": [
    "##### Part 2"
   ]
  },
  {
   "cell_type": "markdown",
   "id": "cbc63767-527f-4f69-8a53-be342c05d6fd",
   "metadata": {},
   "source": [
    "Now, I will explore a continuous analytic distribution. The exponential distribution is the probability distribution of the time between events in a Poission point process, in which events occur continuously and independently at a constant average rate. The exponential distribution is memoryless, meaning the distribution of a \"waiting time\" until a certain event does not depend on how much time has elapsed already. The probability density function (pdf) and cumulative distribution function (cdf) are the following, both defined only for $x >= 0$:"
   ]
  },
  {
   "cell_type": "markdown",
   "id": "94a740b6-ec45-4961-bfb6-0a32b4cd49dc",
   "metadata": {},
   "source": [
    "pdf = $\\lambda e^{-\\lambda x}$"
   ]
  },
  {
   "cell_type": "markdown",
   "id": "42b90af9-9b7a-453f-95aa-9b1267a808a2",
   "metadata": {},
   "source": [
    "cdf = $1-e^{-\\lambda x}$"
   ]
  },
  {
   "cell_type": "markdown",
   "id": "e388d2f7-683f-4a30-8c2a-be784163ff04",
   "metadata": {},
   "source": [
    "To set this up, we'll first create an empty plot, and generate 100k samples for the exponential pdf with the built-in stats function, stats.expon."
   ]
  },
  {
   "cell_type": "code",
   "execution_count": 11,
   "id": "57e01c47-f1bd-47db-a11a-70733d2b1c33",
   "metadata": {},
   "outputs": [],
   "source": [
    "plt.rcParams[\"figure.figsize\"] = (15,10)"
   ]
  },
  {
   "cell_type": "code",
   "execution_count": 12,
   "id": "c415a09f-a729-4262-a1a7-6e702f4fa8b8",
   "metadata": {},
   "outputs": [],
   "source": [
    "# For stats.expon, the parameter \"scale\" is defined as scale = 1 / lambda\n",
    "# So here I will use a lambda of 3, and the default location of 0.\n",
    "d = stats.expon.rvs(size = 100000, loc = 0, scale = 1/3)"
   ]
  },
  {
   "cell_type": "code",
   "execution_count": 13,
   "id": "e70bb605-3412-4d8a-b8a1-80c6f30fa98f",
   "metadata": {},
   "outputs": [
    {
     "data": {
      "image/png": "[encoded data removed]",
      "text/plain": [
       "<Figure size 1080x720 with 1 Axes>"
      ]
     },
     "metadata": {
      "needs_background": "light"
     },
     "output_type": "display_data"
    }
   ],
   "source": [
    "# We'll take the samples, group them into 50 bins, and normalize before plotting on a graph. \n",
    "fig, ax = plt.subplots(1, 1)\n",
    "ax.hist(d, 100, density=True, label='Binned Exponential Random Variables')\n",
    "\n",
    "# Here I change the plot parameters\n",
    "plt.tick_params(labelsize = 24)\n",
    "plt.xlim([0,10])\n",
    "\n",
    "# I create a linear space for x from 0 to 10, with 1000 values between, to use as input values for the analytic distribution\n",
    "x = np.linspace(0,10,1000)\n",
    "\n",
    "# Lastly, I can plot the analytic distribution with lambda = 3, again scale = 1/lambda\n",
    "a = 3\n",
    "ax.plot(x,stats.expon.pdf(x, loc = 0, scale = 1/a), linewidth = 8, alpha = 0.7, label='Analytic Exponential Distribution')\n",
    "plt.legend()\n",
    "plt.show()"
   ]
  },
  {
   "cell_type": "markdown",
   "id": "d935e0f7-bcea-407b-85d7-515eba0ff202",
   "metadata": {},
   "source": [
    "What happens if I plot this on a semi-log graph? Plotting a Gaussian on a semi-log graph shows an upside-down parabola. For an exponential distribution, you would expect a negative linear plot."
   ]
  },
  {
   "cell_type": "code",
   "execution_count": 14,
   "id": "6803d9ea-10a2-479b-98c8-c1fb069fd62a",
   "metadata": {},
   "outputs": [
    {
     "data": {
      "image/png": "[encoded data removed]",
      "text/plain": [
       "<Figure size 1080x720 with 1 Axes>"
      ]
     },
     "metadata": {
      "needs_background": "light"
     },
     "output_type": "display_data"
    }
   ],
   "source": [
    "# We will repeat all of the steps before, except we will plot it on a graph where y is on log-scale. \n",
    "fig, ax = plt.subplots(1, 1)\n",
    "ax.hist(d, 100, density=True, label='Binned Exponential Random Variables')\n",
    "\n",
    "plt.tick_params(labelsize = 24)\n",
    "plt.xlim([0,10])\n",
    "\n",
    "x = np.linspace(0,10,1000)\n",
    "\n",
    "a = 3\n",
    "ax.plot(x,stats.expon.pdf(x, loc = 0, scale = 1/a), linewidth = 8, alpha = 0.7, label='Analytic Exponential Distribution')\n",
    "plt.yscale('log')\n",
    "plt.legend()\n",
    "plt.show()"
   ]
  },
  {
   "cell_type": "markdown",
   "id": "bf4388ad-641e-4608-8f92-078332071930",
   "metadata": {},
   "source": [
    "As we can see, the semi-log plot of the exponential distribution looks approximately linear, which is what we were expecting."
   ]
  },
  {
   "cell_type": "markdown",
   "id": "cd894428-5fd6-4560-9c4b-38ca1311bc4b",
   "metadata": {},
   "source": [
    "##### Part 3"
   ]
  },
  {
   "cell_type": "markdown",
   "id": "f13cea83-5a4c-41d7-88a1-71886f579158",
   "metadata": {},
   "source": [
    "Next, I will imagine I have some signal-free data that follows an exponential distribution. In this hypothetical scenario, I have a specific measurement of x = 1.8, and I would like to know the answer to the following question:\n",
    "##### \"What is the probability that the data produced a signal that is equally or more signal-like than what I observed?\"\n",
    "In other words, what are the odds that the data point x = 1.8 was produced by background noise?"
   ]
  },
  {
   "cell_type": "markdown",
   "id": "11aa0452-0001-4ea9-a883-671ba55ddb69",
   "metadata": {},
   "source": [
    "We can represent the answer to this question mathematically with the following integral:"
   ]
  },
  {
   "cell_type": "markdown",
   "id": "83960b68-8288-4dbf-8384-f8fe7dde0656",
   "metadata": {},
   "source": [
    "Probability = $\\int_{1.8}^{\\infty}$ pdf(x) dx = $\\int_{1.8}^{\\infty}\\lambda e^{-\\lambda x}$ dx "
   ]
  },
  {
   "cell_type": "markdown",
   "id": "2b91fa04-d46b-467c-9e43-2fbd97255f04",
   "metadata": {},
   "source": [
    "Let's calculate this probability for x = 1.8 and convert it into an equivalent sigma value."
   ]
  },
  {
   "cell_type": "code",
   "execution_count": 45,
   "id": "fa1ea178-33fb-4368-91ea-b053f227998e",
   "metadata": {},
   "outputs": [
    {
     "name": "stdout",
     "output_type": "stream",
     "text": [
      "The probability that the data produced a signal equally or more signal-like that what I observed is 0.8347.\n"
     ]
    }
   ],
   "source": [
    "x = 1.8\n",
    "prob_expon = stats.expon.cdf(x)\n",
    "print(f'The probability that the data produced a signal equally or more signal-like that what I observed is {prob_expon:.4f}.')"
   ]
  },
  {
   "cell_type": "code",
   "execution_count": 46,
   "id": "b56c419f-fddd-4364-bb0f-23d429b02055",
   "metadata": {},
   "outputs": [
    {
     "name": "stdout",
     "output_type": "stream",
     "text": [
      "The corresponding sigma probability for this is 0.97.\n"
     ]
    }
   ],
   "source": [
    "# Convert into equivalent sigma value\n",
    "sigma_expon = stats.norm.ppf(prob_expon)\n",
    "print(f'The corresponding sigma probability for this is {sigma_expon:.2f}.')"
   ]
  },
  {
   "cell_type": "markdown",
   "id": "1bc22c94-8fc4-474c-9e78-fc6fbdce2829",
   "metadata": {},
   "source": [
    "##### Part 4\n",
    "I can try a few different values of observed data to look for patterns in the probability and sigma values."
   ]
  },
  {
   "cell_type": "code",
   "execution_count": 48,
   "id": "c354685c-0b6e-4e8e-8540-fceee6b282f5",
   "metadata": {},
   "outputs": [
    {
     "name": "stdout",
     "output_type": "stream",
     "text": [
      "The probability that the data produced a signal equally or more signal-like than x = 3.0 is 0.9502.\n",
      "The corresponding sigma probability for this is 1.65.\n",
      "The probability that the data produced a signal equally or more signal-like than x = 5.0 is 0.9933.\n",
      "The corresponding sigma probability for this is 2.47.\n",
      "The probability that the data produced a signal equally or more signal-like than x = 10.0 is 0.99995460.\n",
      "The corresponding sigma probability for this is 3.91.\n"
     ]
    }
   ],
   "source": [
    "x1 = 3\n",
    "x2 = 5\n",
    "x3 = 10\n",
    "\n",
    "prob_expon1 = stats.expon.cdf(x1)\n",
    "prob_expon2 = stats.expon.cdf(x2)\n",
    "prob_expon3 = stats.expon.cdf(x3)\n",
    "\n",
    "sigma_expon1 = stats.norm.ppf(prob_expon1)\n",
    "sigma_expon2 = stats.norm.ppf(prob_expon2)\n",
    "sigma_expon3 = stats.norm.ppf(prob_expon3)\n",
    "\n",
    "print(f'The probability that the data produced a signal equally or more signal-like than x = {x1:.1f} is {prob_expon1:.4f}.')\n",
    "print(f'The corresponding sigma probability for this is {sigma_expon1:.2f}.')\n",
    "print(f'The probability that the data produced a signal equally or more signal-like than x = {x2:.1f} is {prob_expon2:.4f}.')\n",
    "print(f'The corresponding sigma probability for this is {sigma_expon2:.2f}.')\n",
    "print(f'The probability that the data produced a signal equally or more signal-like than x = {x3:.1f} is {prob_expon3:.8f}.')\n",
    "print(f'The corresponding sigma probability for this is {sigma_expon3:.2f}.')"
   ]
  },
  {
   "cell_type": "markdown",
   "id": "d2c2efb4-a235-43e3-a7d7-f944f7b5deec",
   "metadata": {},
   "source": [
    "As I observe higher data values, the probability that the data produced a signal equally or more signal-like than that data value increases, and the corresponding sigma increases. "
   ]
  },
  {
   "cell_type": "code",
   "execution_count": null,
   "id": "4f4e3c5d-5b33-4120-90eb-5900903886d3",
   "metadata": {},
   "outputs": [],
   "source": []
  }
 ],
 "metadata": {
  "kernelspec": {
   "display_name": "Python 3",
   "language": "python",
   "name": "python3"
  },
  "language_info": {
   "codemirror_mode": {
    "name": "ipython",
    "version": 3
   },
   "file_extension": ".py",
   "mimetype": "text/x-python",
   "name": "python",
   "nbconvert_exporter": "python",
   "pygments_lexer": "ipython3",
   "version": "3.8.8"
  }
 },
 "nbformat": 4,
 "nbformat_minor": 5
}
