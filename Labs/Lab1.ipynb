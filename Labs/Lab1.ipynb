{
 "cells": [
  {
   "cell_type": "markdown",
   "id": "61703edf-89cd-4140-b614-8afb6ed2f35c",
   "metadata": {},
   "source": [
    "### Lab 1\n",
    "#### Jennifer Vo"
   ]
  },
  {
   "cell_type": "code",
   "execution_count": 1,
   "id": "8e37e261-2c85-4cd6-beb2-e6084381ebda",
   "metadata": {},
   "outputs": [],
   "source": [
    "import numpy as np\n",
    "import matplotlib\n",
    "import matplotlib.pyplot as plt\n",
    "import scipy\n",
    "from scipy import stats"
   ]
  },
  {
   "cell_type": "markdown",
   "id": "6cafd465-6e77-4b5b-8965-610c1f7a21fa",
   "metadata": {},
   "source": [
    "#### A Little Statistics\n",
    "##### Part 1"
   ]
  },
  {
   "cell_type": "markdown",
   "id": "bde82dc0-768a-429b-ac5f-fd86836733a4",
   "metadata": {},
   "source": [
    "Let's try to integrate a standard normal distribution."
   ]
  },
  {
   "cell_type": "code",
   "execution_count": 2,
   "id": "fb137605-bb55-44c3-b770-926c31e77382",
   "metadata": {},
   "outputs": [
    {
     "name": "stdout",
     "output_type": "stream",
     "text": [
      "The probability is 0.8413 for 1.00 sigma.\n"
     ]
    }
   ],
   "source": [
    "sigma1 = 1.0\n",
    "prob1 = stats.norm.cdf(sigma1)\n",
    "print(f'The probability is {prob1:.4f} for {sigma1:.2f} sigma.')"
   ]
  },
  {
   "cell_type": "code",
   "execution_count": 3,
   "id": "b0c5e6c4-5c85-4f38-804f-fe1bbf6be4ca",
   "metadata": {},
   "outputs": [
    {
     "name": "stdout",
     "output_type": "stream",
     "text": [
      "The probability is 0.8849 for 1.20 sigma.\n"
     ]
    }
   ],
   "source": [
    "sigma2 = 1.2\n",
    "prob2 = stats.norm.cdf(sigma2)\n",
    "print(f'The probability is {prob2:.4f} for {sigma2:.2f} sigma.')"
   ]
  },
  {
   "cell_type": "code",
   "execution_count": 4,
   "id": "66dbcbe5-105a-426c-b797-d210773ace8c",
   "metadata": {},
   "outputs": [
    {
     "name": "stdout",
     "output_type": "stream",
     "text": [
      "The probability is 0.9192 for 1.40 sigma.\n"
     ]
    }
   ],
   "source": [
    "sigma3 = 1.4\n",
    "prob3 = stats.norm.cdf(sigma3)\n",
    "print(f'The probability is {prob3:.4f} for {sigma3:.2f} sigma.')"
   ]
  },
  {
   "cell_type": "markdown",
   "id": "7073d943-d3c5-4a7d-a61e-806af2ebb3b7",
   "metadata": {},
   "source": [
    "Alternatively, you can call the erfc(). The error function is related to the normal distribution by the following formula.\n",
    "The probability that a standard normal variate assumes a value in the interval [0,z] is given by phi = 0.5*scipy.special.erfc(z/(2\\**0.5)), thus the probability that the value is greater than z would be 1 - phi"
   ]
  },
  {
   "cell_type": "code",
   "execution_count": 5,
   "id": "c6768b9d-862b-4ac1-ab33-7c5ad94a7f4a",
   "metadata": {},
   "outputs": [
    {
     "name": "stdout",
     "output_type": "stream",
     "text": [
      "0.8413447460685429\n"
     ]
    }
   ],
   "source": [
    "prob1 = 1 - 0.5*scipy.special.erfc(sigma1/(2**0.5))\n",
    "print(prob1)"
   ]
  },
  {
   "cell_type": "code",
   "execution_count": 6,
   "id": "aa2a8436-04fd-4b38-9207-657de4944154",
   "metadata": {},
   "outputs": [
    {
     "name": "stdout",
     "output_type": "stream",
     "text": [
      "The sigma associated with 0.8413 is 1.00.\n",
      "The sigma associated with 0.8849 is 1.20.\n",
      "The sigma associated with 0.9192 is 1.40.\n"
     ]
    }
   ],
   "source": [
    "sigmaA = stats.norm.ppf(prob1)\n",
    "sigmaB = stats.norm.ppf(prob2)\n",
    "sigmaC = stats.norm.ppf(prob3)\n",
    "\n",
    "print(f'The sigma associated with {prob1:.4f} is {sigmaA:.2f}.')\n",
    "print(f'The sigma associated with {prob2:.4f} is {sigmaB:.2f}.')\n",
    "print(f'The sigma associated with {prob3:.4f} is {sigmaC:.2f}.')"
   ]
  },
  {
   "cell_type": "markdown",
   "id": "8475a523-fa96-4d67-836f-20401ca4bc1a",
   "metadata": {},
   "source": [
    "Thus we confirm that our probabilities calculated previously are correct."
   ]
  },
  {
   "cell_type": "code",
   "execution_count": 7,
   "id": "440db81e-473f-4868-b95e-6520299ca674",
   "metadata": {},
   "outputs": [
    {
     "name": "stdout",
     "output_type": "stream",
     "text": [
      "To obtain a probability of 97.725% we would need a sigma of 2.00.\n"
     ]
    }
   ],
   "source": [
    "sigmaD = stats.norm.ppf(0.97725)\n",
    "print(f'To obtain a probability of 97.725% we would need a sigma of {sigmaD:.2f}.')"
   ]
  },
  {
   "cell_type": "code",
   "execution_count": 8,
   "id": "78da7216-a9a0-4103-9ae5-7972e25f6b14",
   "metadata": {},
   "outputs": [
    {
     "name": "stdout",
     "output_type": "stream",
     "text": [
      "For a probability of less than 50%, we would expect a negative sigma.\n",
      "For example, a probability of 49% is associated with sigma -0.03.\n"
     ]
    }
   ],
   "source": [
    "sigmaE = stats.norm.ppf(0.49)\n",
    "print('For a probability of less than 50%, we would expect a negative sigma.')\n",
    "print(f'For example, a probability of 49% is associated with sigma {sigmaE:.2f}.')"
   ]
  },
  {
   "cell_type": "markdown",
   "id": "32991d3d-ee67-4871-9a95-2afbfba23403",
   "metadata": {},
   "source": [
    "##### Part 2"
   ]
  },
  {
   "cell_type": "markdown",
   "id": "cbc63767-527f-4f69-8a53-be342c05d6fd",
   "metadata": {},
   "source": [
    "Next I will explore a continuous analytic distribution. The exponential distribution is the probability distribution of the time between events in a Poission point process, in which events occur continuously and independently at a constant average rate. The exponential distribution is memoryless, meaning the distribution of a \"waiting time\" until a certain event does not depend on how much time has elapsed already. The probability density function (pdf) and cumulative distribution function (cdf) are the following, both defined only for $x >= 0$:"
   ]
  },
  {
   "cell_type": "markdown",
   "id": "94a740b6-ec45-4961-bfb6-0a32b4cd49dc",
   "metadata": {},
   "source": [
    "pdf = $\\lambda e^{-\\lambda x}$"
   ]
  },
  {
   "cell_type": "markdown",
   "id": "42b90af9-9b7a-453f-95aa-9b1267a808a2",
   "metadata": {},
   "source": [
    "cdf = $1-e^{-\\lambda x}$"
   ]
  },
  {
   "cell_type": "code",
   "execution_count": null,
   "id": "57e01c47-f1bd-47db-a11a-70733d2b1c33",
   "metadata": {},
   "outputs": [],
   "source": []
  }
 ],
 "metadata": {
  "kernelspec": {
   "display_name": "Python 3",
   "language": "python",
   "name": "python3"
  },
  "language_info": {
   "codemirror_mode": {
    "name": "ipython",
    "version": 3
   },
   "file_extension": ".py",
   "mimetype": "text/x-python",
   "name": "python",
   "nbconvert_exporter": "python",
   "pygments_lexer": "ipython3",
   "version": "3.8.8"
  }
 },
 "nbformat": 4,
 "nbformat_minor": 5
}
