{
 "cells": [
  {
   "cell_type": "markdown",
   "id": "f5f1934a-d1f3-4c77-9dde-7fd2d2593f66",
   "metadata": {},
   "source": [
    "### Lab 2\n",
    "#### Jennifer Vo, partners with William Olsen"
   ]
  },
  {
   "cell_type": "code",
   "execution_count": null,
   "id": "1c25b737-cbd6-4247-aa2d-f51e14099f7b",
   "metadata": {},
   "outputs": [],
   "source": []
  }
 ],
 "metadata": {
  "kernelspec": {
   "display_name": "Python 3",
   "language": "python",
   "name": "python3"
  },
  "language_info": {
   "codemirror_mode": {
    "name": "ipython",
    "version": 3
   },
   "file_extension": ".py",
   "mimetype": "text/x-python",
   "name": "python",
   "nbconvert_exporter": "python",
   "pygments_lexer": "ipython3",
   "version": "3.8.8"
  }
 },
 "nbformat": 4,
 "nbformat_minor": 5
}
