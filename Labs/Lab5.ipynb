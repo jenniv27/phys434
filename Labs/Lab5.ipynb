{
 "cells": [
  {
   "cell_type": "markdown",
   "id": "9f5750d6-c66a-42a8-90ef-3662d510a4d4",
   "metadata": {},
   "source": [
    "# Lab 5"
   ]
  },
  {
   "cell_type": "markdown",
   "id": "5548f83a-918a-43bb-ac2b-303ceda6916e",
   "metadata": {},
   "source": [
    "## Jennifer Vo, lab partners with William Olsen"
   ]
  },
  {
   "cell_type": "markdown",
   "id": "2a6cdd47-fb31-49a9-a114-be35f3247fe8",
   "metadata": {},
   "source": [
    "Lab 5a. Download the training datasets from one of the two pT-range folders. In each folder, there are 2 files, each containing 100k jets. The signal dataset is labeled as “higgs” and the background dataset is labeled as “qcd.”\n",
    "\n",
    "Lab 5b. Explore the training data by addressing following questions:\n",
    "\n",
    "- Do all features provide discrimination power between signal and background?\n",
    "- Are there correlations among these features?\n",
    "- Compute expected discovery sensitivity by normalizing each sample appropriately.\n",
    "- Develop a plan to optimize the discovery sensitivity by applying selections to these features."
   ]
  },
  {
   "cell_type": "code",
   "execution_count": null,
   "id": "1517ada5-fb9e-49c0-9039-5f3a2390578d",
   "metadata": {},
   "outputs": [],
   "source": []
  }
 ],
 "metadata": {
  "kernelspec": {
   "display_name": "Python 3",
   "language": "python",
   "name": "python3"
  },
  "language_info": {
   "codemirror_mode": {
    "name": "ipython",
    "version": 3
   },
   "file_extension": ".py",
   "mimetype": "text/x-python",
   "name": "python",
   "nbconvert_exporter": "python",
   "pygments_lexer": "ipython3",
   "version": "3.8.8"
  }
 },
 "nbformat": 4,
 "nbformat_minor": 5
}
