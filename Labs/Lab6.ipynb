{
 "cells": [
  {
   "cell_type": "markdown",
   "id": "eeab9a0e-bbb1-43b4-b1d5-bf86cbb68c9b",
   "metadata": {},
   "source": [
    "# Lab 6\n",
    "\n",
    "## Jennifer Vo, lab partners with William Olsen"
   ]
  },
  {
   "cell_type": "markdown",
   "id": "1d1610e9-54c8-44af-b562-a24bac42d55b",
   "metadata": {},
   "source": [
    "## Setup"
   ]
  },
  {
   "cell_type": "markdown",
   "id": "70e5b8aa-70be-463c-8317-e508e1173398",
   "metadata": {},
   "source": [
    "Make fake background data, a Poisson distribution with a mean of 100."
   ]
  },
  {
   "cell_type": "markdown",
   "id": "22464eaa-6f4f-4580-a8b3-53bca8021c61",
   "metadata": {},
   "source": [
    "## Problem 1\n",
    "The first problem is to look at your background distribution and determine where the 5σ sensitivity threshold is. [Hint, you've done this several times now, look back at the first few labs.]"
   ]
  },
  {
   "cell_type": "markdown",
   "id": "d8060378-eda3-47eb-ad76-20909567ff36",
   "metadata": {},
   "source": [
    "## Problem 2\n",
    "Now inject a signal of known strength. You will want to make your signal moderately strong, say somewhere in the 8-30 $\\sigma$ range. Inject this signal into your background data many times.\n",
    "\n",
    "a) Histogram how bright the observed signal appears to be, and discuss it's shape. Say in words what this histogram is telling you.\n",
    "\n",
    "b) Is your observed signal biased? (e.g. is the observed value equally likely to be stronger or weaker than the true injected signal?) Is it symmetric?"
   ]
  },
  {
   "cell_type": "markdown",
   "id": "4a28ea5b-7a89-48b1-b00c-23f16a12044b",
   "metadata": {},
   "source": [
    "## Problem 3\n",
    "Now make a suite of injected signals. You will want to have a range of injected signal strengths, starting at zero and extending well above 5σ (30σ or more). You will want to follow the work you did for Homework 5 very closely.\n",
    "\n",
    "a) Clearly state what you are simulating, and make a 2D histogram of injected signal vs. observed data\n",
    "\n",
    "b) For the same injected signal power as in problem 2, show that you get the same answer.\n",
    "\n",
    "c) Now reverse the problem, select an observed data value (pick something quite a bit stronger than 5σ) and create a 1D histogram of the true signal probability given the observed data. Describe the meaning of this histogram.\n",
    "\n",
    "d) For your observed signal, what is the 1σ uncertainty on the true signal strength?\n",
    "\n",
    "e) Discuss the answer to part d in some depth. Is it symmetric? Is it biased? Does this make sense?"
   ]
  },
  {
   "cell_type": "code",
   "execution_count": null,
   "id": "11bce456-102c-4380-b5f1-c1fe303b8684",
   "metadata": {},
   "outputs": [],
   "source": []
  }
 ],
 "metadata": {
  "kernelspec": {
   "display_name": "Python 3",
   "language": "python",
   "name": "python3"
  },
  "language_info": {
   "codemirror_mode": {
    "name": "ipython",
    "version": 3
   },
   "file_extension": ".py",
   "mimetype": "text/x-python",
   "name": "python",
   "nbconvert_exporter": "python",
   "pygments_lexer": "ipython3",
   "version": "3.8.8"
  }
 },
 "nbformat": 4,
 "nbformat_minor": 5
}
