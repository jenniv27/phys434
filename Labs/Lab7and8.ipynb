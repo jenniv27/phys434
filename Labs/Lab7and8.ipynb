{
 "cells": [
  {
   "cell_type": "markdown",
   "id": "2853f99b-2055-4114-b807-ef2439e6183c",
   "metadata": {},
   "source": [
    "# Lab 7 and 8"
   ]
  },
  {
   "cell_type": "markdown",
   "id": "d88c12bc-ee5e-44bd-b93d-b495fad92c67",
   "metadata": {},
   "source": [
    "## Jennifer Vo, lab partners with William Olsen"
   ]
  },
  {
   "cell_type": "markdown",
   "id": "f62023db-e85a-4f63-9645-a87d669a1fc0",
   "metadata": {},
   "source": [
    "### Lab 7: Event Selection Optimization"
   ]
  },
  {
   "cell_type": "markdown",
   "id": "4042c1a6-41d8-40d9-a4c9-b998e9e3f932",
   "metadata": {},
   "source": [
    "## Introduction and Selection\n",
    "\n",
    "__You and your lab partner should pick different pT (transverse momentum) samples for this lab. In each pT sample, there are dedicated training samples for event selection optimization. All studies should be carried out by normalizing Higgs and QCD samples in each pT sample to give expected yields accordingly (See Dataset descriptions).__\n",
    "\n",
    "In this lab, my partner and I will be optimizing the event selections in our LHC training samples. I will be working with the low PT training sample datasets, which come in two files: the QCD background dataset and the Higgs Boson signal dataset. There are 100k total events (jets) in each data set. The expected yield for the Higgs Boson signal data is 100 jets and the expected yield for QCD background data is 20,000 jets.\n",
    "\n",
    "In the previous labs (Lab 5), I identified the different variables which held discrimination power between the Higgs Boson signal data and the QCD background data. In this lab, I will be plotting more histograms to work through the optimization process comprehensively. \n",
    "\n",
    "First let's import the required libraries for this lab and load the files' datasets into arrays that I can work with."
   ]
  },
  {
   "cell_type": "code",
   "execution_count": 2,
   "id": "4549ca3a-398e-4380-8c0d-ae548a42ff02",
   "metadata": {},
   "outputs": [],
   "source": [
    "%matplotlib inline\n",
    "import numpy as np\n",
    "import matplotlib\n",
    "import matplotlib.pyplot as plt\n",
    "import scipy\n",
    "from scipy import stats\n",
    "import h5py\n",
    "import math\n",
    "import pickle\n",
    "\n",
    "#this sets the size of the plots to something useful\n",
    "plt.rcParams[\"figure.figsize\"] = (7,4)"
   ]
  },
  {
   "cell_type": "code",
   "execution_count": 3,
   "id": "c9b5fab1-5794-40ae-ab3b-8cddbc715253",
   "metadata": {},
   "outputs": [],
   "source": [
    "# import library\n",
    "import pickle\n",
    "\n",
    "# open the qcd background data file, and use pickle loading\n",
    "infile = open(\"qcd250-500.pkl\",'rb')\n",
    "qcd_dict = pickle.load(infile)\n",
    "\n",
    "# open the higgs signal data file, and use pickle loading\n",
    "infile = open(\"higgs250-500.pkl\",'rb')\n",
    "higgs_dict = pickle.load(infile)"
   ]
  },
  {
   "cell_type": "markdown",
   "id": "51d9e480-347c-4c85-9e34-68e643ab6ed5",
   "metadata": {},
   "source": [
    "## Part 1\n",
    "__Make a stacked histogram plot for the feature variable: mass__\n",
    "\n",
    "First, I will be working with the variable \"mass\". This variable represents the sum of the masses of the jet's particles, produced in the collision. I would first like to create a stacked histogram plot for mass. In this case, I will create a stacked histogram by accessing the data from each file, creating a two-dimensional array with 100,000 rows and 2 columns, which contains the mass measurement from all jet events in both the background and the Higgs signal data. Once I plot this on the stacked histogram I will distinguish them by color."
   ]
  },
  {
   "cell_type": "code",
   "execution_count": null,
   "id": "c85368fd-05a8-450b-95b0-3923b952ad60",
   "metadata": {},
   "outputs": [],
   "source": [
    "# plt.hist(qcd_dict['mass'], bins = 100, label = 'Background')\n",
    "# plt.xlabel('mass (GeV)', fontsize = 15)\n",
    "# plt.ylabel('Event counts', fontsize = 15)\n",
    "\n",
    "# plt.hist(higgs_dict['mass'], bins = 100, label = 'Higgs signal')\n",
    "# plt.xlabel('mass (GeV)', fontsize = 15)\n",
    "# plt.ylabel('Event counts', fontsize = 15)\n",
    "\n",
    "# x needs to be an 2D array of dimensions 100k rows by 2 columns.\n",
    "\n",
    "w, h = 100, 2\n",
    "mass_combined = [[0 for x in range(w)] for y in range(h)]\n",
    "for i in range (0, 100):\n",
    "    mass_combined[0][i] = qcd_dict['mass'][i]\n",
    "    mass_combined[1][i] = higgs_dict['mass'][i]\n",
    "\n",
    "plt.hist(mass_combined, 30, density=True, histtype='bar', stacked=True)\n",
    "plt.show()"
   ]
  },
  {
   "cell_type": "markdown",
   "id": "2dc1f538-5af5-4ecd-8ca2-c423477e3cb6",
   "metadata": {},
   "source": [
    "\n",
    "- Evaluate expected significance without any event selection.\n",
    "    - Use Poisson statistics for significance calculation\n",
    "    - Compare the exact significance to the approximation  $N_{Higgs}/\\sqrt{N_{QCD}}$ . If they are equivalent, explain your findings."
   ]
  },
  {
   "cell_type": "markdown",
   "id": "9a6f5fde-d2d4-45a7-8518-0441e65021f7",
   "metadata": {},
   "source": [
    "## Part 2\n",
    "Identify mass cuts to optimize the expected significance.\n",
    "- Try different mass cuts systematically\n",
    "- Evaluate expected significance for each set of mass cuts\n",
    "- Identify the set of mass cuts which give you the highest significance."
   ]
  },
  {
   "cell_type": "markdown",
   "id": "8dba60df-331f-448f-bef4-f3ae70339eef",
   "metadata": {},
   "source": [
    "## Part 3\n",
    "Make two sets of stacked histogram plots for the rest of the features\n",
    "- Set A without any event selection\n",
    "    - Can you identify another feature as discriminative as mass? (i.e. equal or better significance after feature cut)\n",
    "- Set B with your optimal mass cuts\n",
    "    - Can you identify another feature to further improve your expected signifiance?"
   ]
  },
  {
   "cell_type": "markdown",
   "id": "30f69948-64f6-4414-92c9-a7050c76129b",
   "metadata": {},
   "source": [
    "## Part 4\n",
    "Optimize event selections using multiple features (if necessary)\n",
    "- Find a set of feature cuts which achieve high expected significance.\n",
    "- Compare significance (before/after event selection) derived in your pT samples to your lab partner. Describe your findings."
   ]
  },
  {
   "cell_type": "markdown",
   "id": "270285d2-96ca-4337-a1c8-86f8a3bf6ad8",
   "metadata": {},
   "source": [
    "## Part 5\n",
    "Bonus (optional):\n",
    "- Plot 2-dimensional plots using the top two most discriminative features\n",
    "    - Can you find a curve or a linear combination in this 2D plane which gives even better sensitivity? Extended reading: Lab 7 is a classificaition problem using multi-dimensional features in supervised machine learning. We can use popular machine learning tools to develop an optimial classifier which can maximize information by using all features. For interested students, you can read https://scikit-learn.org/stable/supervised_learning.html"
   ]
  },
  {
   "cell_type": "code",
   "execution_count": null,
   "id": "ebd939e9-2ee3-41d7-89e6-b09c54b2a2c8",
   "metadata": {},
   "outputs": [],
   "source": []
  }
 ],
 "metadata": {
  "kernelspec": {
   "display_name": "Python 3",
   "language": "python",
   "name": "python3"
  },
  "language_info": {
   "codemirror_mode": {
    "name": "ipython",
    "version": 3
   },
   "file_extension": ".py",
   "mimetype": "text/x-python",
   "name": "python",
   "nbconvert_exporter": "python",
   "pygments_lexer": "ipython3",
   "version": "3.8.8"
  }
 },
 "nbformat": 4,
 "nbformat_minor": 5
}
